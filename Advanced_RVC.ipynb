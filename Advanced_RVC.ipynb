{
  "cells": [
    {
      "cell_type": "markdown",
      "metadata": {
        "id": "view-in-github",
        "colab_type": "text"
      },
      "source": [
        "<a href=\"https://colab.research.google.com/github/Blane187/Mangio-Fork-Twaks/blob/main/Advanced_RVC.ipynb\" target=\"_parent\"><img src=\"https://colab.research.google.com/assets/colab-badge.svg\" alt=\"Open In Colab\"/></a>"
      ]
    },
    {
      "cell_type": "code",
      "execution_count": null,
      "metadata": {
        "cellView": "form",
        "id": "yZXiNvqQRDRO"
      },
      "outputs": [],
      "source": [
        "#@title Check GPU\n",
        "!nvidia-smi"
      ]
    },
    {
      "cell_type": "code",
      "execution_count": null,
      "metadata": {
        "cellView": "form",
        "id": "e7WWnYHPRDRV"
      },
      "outputs": [],
      "source": [
        "#@title Install Dependencies\n",
        "import subprocess\n",
        "\n",
        "subprocess.run([\"apt-get\", \"update\"])\n",
        "subprocess.run([\"apt-get\", \"install\", \"-qq\", \"-y\", \"aria2\"])\n",
        "subprocess.run([\"git\", \"clone\", \"-b\", \"patch-1\", \"https://github.com/Blane187/Mangio-Fork-Twaks.git\"])\n",
        "\n",
        "\n",
        "%cd Mangio-Fork-Twaks\n",
        "subprocess.run([\"pip\", \"install\", \"-r\", \"requirements-ipe.txt\"])\n",
        "\n",
        "\n",
        "print(\"done install\")"
      ]
    },
    {
      "cell_type": "code",
      "execution_count": null,
      "metadata": {
        "cellView": "form",
        "id": "_H6O2fpXRDRb"
      },
      "outputs": [],
      "source": [
        "\n",
        "\n",
        "\n",
        "#@title run\n",
        "\n",
        "!python app.py --colab"
      ]
    },
    {
      "cell_type": "markdown",
      "metadata": {
        "id": "bMYSAqIOT3Qn"
      },
      "source": [
        "colab notebook edited by [Blane](https://github.com/Blane187)"
      ]
    }
  ],
  "metadata": {
    "accelerator": "GPU",
    "colab": {
      "gpuType": "T4",
      "provenance": [],
      "include_colab_link": true
    },
    "kernelspec": {
      "display_name": "Python 3",
      "name": "python3"
    },
    "language_info": {
      "name": "python"
    }
  },
  "nbformat": 4,
  "nbformat_minor": 0
}